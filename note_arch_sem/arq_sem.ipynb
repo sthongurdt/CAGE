{
 "cells": [
  {
   "cell_type": "markdown",
   "metadata": {},
   "source": [
    "# ¿Qué es un Computador?\n",
    "\n",
    "Es una maquina digital que ejecuta instrucciones para convertirlos en acciones convenientes y útiles. Está formado físicamente por numerosos circuitos integrados (IC), componentes de apoyo, extensión y accesorios, que en conjunto pueden realizar diversas tareas.\n",
    "\n"
   ]
  },
  {
   "cell_type": "markdown",
   "metadata": {},
   "source": [
    "# Arquitectura de un Computador\n",
    "La arquitectura de computadores tiene diferentes definiciones, entre las que encontramos:\n",
    "\n",
    "- Es un modelo y una descripción funcional de los requerimientos y las implementaciones de diseño para varias de las partes de una computadora.\n",
    "- La forma de interconectar componentes de hardware, para crear computadoras según los requerimientos de funcionalidad, rendimiento y costo.\n",
    "\n",
    "<img src=\"img/pc.png\" />\n",
    "1: Monitor,\n",
    "2: Placa base,\n",
    "3: Microprocesador o CPU,\n",
    "4: Puertos,\n",
    "5: Memoria RAM,\n",
    "6: Placas de expansión,\n",
    "7: Fuente de alimentación,\n",
    "8: Unidad de disco óptico,\n",
    "9: Unidad de almacemaniento,\n",
    "10: Teclado,\n",
    "11: Ratón.\n",
    "\n",
    "## ¿Qué es una CPU?\n",
    "\n",
    "Dentro de los dispositivos programables, la **Unidad Central de Procesamiento** (CPU) es el hardware que interpreta las instrucciones de un programa mediante la relación de operaciones básicas aritméticas, lógicas y I/O del sistema. Su forma, diseño e implementación ha cambiado drásticamente con el tiempo, pero su operación fundamental sigue siendo la misma.\n",
    "\n",
    "<img src=\"img/cpu.png\" />\n",
    "\n",
    "Todas las CPUs modernas son microprocesadores, esto significa que contienen un solo **Circuito Integrado** (IC o chip). Comúnmente, estos chips pueden contener varias CPU, denominándolos como **multinúcleos**. Un chip puede contener además de las CPUs otros chips como GPU, FPGA, NPU, dispositivos periféricos, etc; a esto se le llama **Sistema en un Chip** (SoC).\n",
    "\n",
    "<img src=\"img/SoC.png\" />\n",
    "\n",
    "No todos los sistemas computacionales se basan en una CPU. El modelo de computación distribuida resuelve problemas mediante un conjunto interconectado y distribuido de procesadores.\n",
    "\n",
    "## ¿Qué es una GPU?\n",
    "\n",
    "La **Unidad de Procesamiento Grafico** es un chip dedicado al procesamiento grafico u operaciones de coma flotante, aligerando la carga de trabajo en aplicaciones graficas interactivas o que conlleven un alto grado de paralelismo. Esto provee una **fuerza bruta mayor** en las GPU para completar más cálculos en menos tiempo. \n",
    "\n",
    "Una de las mayores diferencias con la CPU está en su arquitectura, la CPU esta basada en la arquitectura de Von Neumann, la GPU se basa en un **modelo circulante** que facilita el procesamiento en paralelo y gran segmentación (gran cantidad de unidades funcionales: vértices y pixeles) para sus tareas.\n",
    "\n",
    "## x86 V ARM\n",
    "\n",
    "**X86** representa una denominación genérica dada a los microprocesadores, su sucesor es la x86-64(AMD64) que es una extensión de 64 bits. Está basada en un modelo de arquitectura **CISC**, este tipo de arquitectura dificulta el paralelismo entre instrucciones, pero actualmente se implementa un sistema de conversión, una instrucción CISC se convierte en varias instrucciones RISC, llamadas habitualmente microinstrucciones.\n",
    "\n",
    "<img src=\"img/RvsC.jpg\" />\n",
    "\n",
    "**ARM** se basa en una arquitectura **RISC** de 32 y 64 bits, desarrollada por ARM Holdings. Este diseño permite que los procesadores ARM requieran una cantidad menor de transistores que los procesadores x86 CISC, típico en la mayoría de PC. Gracias a este enfoque, se reduce los costos, temperatura y consumo energético. Estas características son deseables para dispositivos que trabajen con baterías o sean móviles.",
    "\n",
    "## GPGPU\n",
    "\n",
    "La **computación de Proposito General en Unidades de Procesamiento Grafico** trata de estudiar y aprovechar las capacidades de computo de la GPU. Características de la GPU como gran paralelismo, optimización para cálculos de coma flotante o buena relación precio/potencia, las hace atractivas para su uso en aplicaciones de ámbito científico, simulación, etc.\n",
    "\n",
    "Pese a que cualquier algoritmo que sea impleméntale en una CPU lo es también en una GPU, esas implementaciones no serán igual de eficientes en las dos arquitecturas, algoritmos con un alto paralelismo, sin necesidad de estructura de datos complejas y con una alta intensidad aritmética son los que mayores beneficios obtienen de la implementación en la GPU.\n",
    "\n",
    "<img src=\"img/arq.png\" />\n",
    "\n",
    "Recientemente han surgido herramientas para facilitar el desarrollo de aplicaciones GPGPU tales como BrookGPU, Sh (extensión de C++), CUDA, OpenCL, GLSL, Cg o HLSL.\n",
    "\n"
   ]
  },
  {
   "cell_type": "markdown",
   "metadata": {},
   "source": [
    "# Sistemas Embebidos\n",
    "\n",
    "Los sistemas embebidos reciben varios nombres como: empotrado, incrustado o integrado. Están diseñados para realizar una o pocas funciones dedicadas, su diseño está enfocado en cubrir necesidades específicas, se ven comúnmente en sistemas de computación en tiempo real. La mayoría de componentes se encuentra incluidos en la placa base (CPU, GPU, GPIO, etc), esto hace que los dispositivos no tengan la apariencia que se suele asociar con una computadora.\n",
    "\n",
    "<img src=\"img/rpi3.jpg\"/>\n",
    "\n",
    "Estos sistemas se pueden programar directamente en lenguaje ensamblador o utilizar compiladores específicos, pueden usarse lenguajes como C, C++, Python, JAVA, etc. Las aplicaciones desarrolladas se enfrentan principalmente a tareas de procesamiento en tiempo real. Se pueden fabricar por millones, enfocados al bajo costo (dinero o energía). Los primeros equipos aparecieron en los 80’s de la mano de IBM.\n",
    "\n",
    "## Arquitectura Básica\n",
    "\n",
    "Un dispositivo embebido posee una arquitectura semejante a una PC. Estos son los elementos básicos:\n",
    "- **Microprocesador**: es quien se encarga de realizar los cálculos principales del sistema. Ejecuta código para realizar una determinada tarea y dirige el funcionamiento de los demás elementos que lo rodean.\n",
    "- **Memoria**: Su característica principal es que debe tener un acceso de lectura y escritura lo más rápido posible para que el microprocesador no pierda tiempo en tareas que no son meramente de cálculo. En ella se encuentra almacenado el código de los programas que el sistema puede ejecutar, así como los datos.\n",
    "- **Cache**: Es la memoria más rápida, la cache ahorra tiempo ya que no se debe ir a la memoria principal si el dato o la instrucción se encuentra en la cache. Dado su alto precio tiene un tamaño muy inferior con respecto a la principal.\n",
    "- **Almacenamiento**: Por lo general se presenta como unidades de estado sólido (DiskOnChip, CompactFlash IDE Flash Drive, etc).\n",
    "- **BIOS-ROM**: el Sistema Básico de Entrada y Salida (BIOS) es código necesario para inicializar la computadora y para poner en comunicación los distintos elementos de tarjeta. La Memoria de Solo Lectura (ROM) es un chip donde se encuentra el código BIOS.\n",
    "- **CMOS-RAM**: es un chip de memoria de lectura/escritura alimentado por una pila, almacena el tipo y ubicación de los dispositivos conectados a la tarjeta. Además, contiene un reloj en permanente funcionamiento que ofrece al sistema la fecha y hora.\n",
    "- **Chipset**: controla las interrupciones dirigidas al microprocesador, Acceso Directo a Memoria (DMA), el bus ISA, temporizadores, etc. Frecuentemente encontramos el CMOS-RAM dentro del Chipset, pero también podemos encontrar las entradas al sistema (puertos para mouse, teclado, etc), salidas del sistema (puertos de video, sonido, etc) y ranuras de expansión para tarjetas de tareas específicas (GPU, FPGA, RDSI, etc).\n",
    "\n",
    "Algunos fabricantes integran el microprocesador y elementos de control en un mismo chip. Su capacidad de proceso suele ser inferior a los procesadores de propósito general (GP) ya que los sistemas donde se ubican no requieren tanta potencia. Los Sistemas Operativos (SO) para estas tarjetas suelen ser específicos para estos dispositivos, pero con el aumento de capacidades computacionales se han vuelto algo genéricos.\n",
    "\n",
    "<img src=\"img/arqjn.jpg\"/>\n",
    "\n",
    "## ¿En qué puedo usar un Sistema Embebido?\n",
    "\n",
    "Las aplicaciones son numerosas y de varias naturalezas. Estos son algunos ejemplos:\n",
    "- En una fábrica, para controlar procesos de montaje o producción. Una maquina puede encargarse de una determinada tarea y para cumplirla debe usar actuadores, circuitos eléctricos y electrónicos, hornos, etc. Todo gobernado por un procesador, el cual ofrece una interfaz HCI para ser dirigido e informar al operador.\n",
    "\n",
    "\n",
    "\n",
    "\n",
    "\n",
    "\n",
    "\n"
   ]
  },
  {
   "cell_type": "markdown",
   "metadata": {},
   "source": []
  },
  {
   "cell_type": "code",
   "execution_count": null,
   "metadata": {},
   "outputs": [],
   "source": []
  }
 ],
 "metadata": {
  "kernelspec": {
   "display_name": "Python 3",
   "language": "python",
   "name": "python3"
  },
  "language_info": {
   "codemirror_mode": {
    "name": "ipython",
    "version": 3
   },
   "file_extension": ".py",
   "mimetype": "text/x-python",
   "name": "python",
   "nbconvert_exporter": "python",
   "pygments_lexer": "ipython3",
   "version": "3.7.4"
  }
 },
 "nbformat": 4,
 "nbformat_minor": 2
}
